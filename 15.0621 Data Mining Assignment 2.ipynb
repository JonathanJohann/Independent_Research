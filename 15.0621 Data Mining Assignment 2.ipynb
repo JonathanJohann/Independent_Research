{
 "cells": [
  {
   "cell_type": "markdown",
   "metadata": {},
   "source": [
    "# Data Mining 15.0621 Homework Assignment 2\n",
    "## Questions 6.1, 7.3, 8.2, 9.3\n",
    "## By: Jonathan Johannemann"
   ]
  },
  {
   "cell_type": "code",
   "execution_count": 30,
   "metadata": {
    "collapsed": false
   },
   "outputs": [],
   "source": [
    "import pandas as pd, numpy as np, matplotlib.pyplot as plt,sklearn.linear_model as sl,sklearn.feature_selection as fs\n",
    "import sklearn.preprocessing as pp, sklearn.pipeline as pipe,sklearn.grid_search as gs,warnings,random,sklearn.cross_validation as cv\n",
    "import sklearn\n",
    "random.seed(11152016) #Today's Date\n",
    "warnings.filterwarnings('ignore',category=DeprecationWarning)\n",
    "%matplotlib inline"
   ]
  },
  {
   "cell_type": "markdown",
   "metadata": {},
   "source": [
    "## Question 6.1"
   ]
  },
  {
   "cell_type": "code",
   "execution_count": 2,
   "metadata": {
    "collapsed": false
   },
   "outputs": [
    {
     "data": {
      "text/html": [
       "<div>\n",
       "<table border=\"1\" class=\"dataframe\">\n",
       "  <thead>\n",
       "    <tr style=\"text-align: right;\">\n",
       "      <th></th>\n",
       "      <th>CRIM</th>\n",
       "      <th>ZN</th>\n",
       "      <th>INDUS</th>\n",
       "      <th>CHAS</th>\n",
       "      <th>NOX</th>\n",
       "      <th>RM</th>\n",
       "      <th>AGE</th>\n",
       "      <th>DIS</th>\n",
       "      <th>RAD</th>\n",
       "      <th>TAX</th>\n",
       "      <th>PTRATIO</th>\n",
       "      <th>LSTAT</th>\n",
       "      <th>MEDV</th>\n",
       "      <th>CAT.MEDV</th>\n",
       "    </tr>\n",
       "  </thead>\n",
       "  <tbody>\n",
       "    <tr>\n",
       "      <th>0</th>\n",
       "      <td>0.00632</td>\n",
       "      <td>18.0</td>\n",
       "      <td>2.31</td>\n",
       "      <td>0</td>\n",
       "      <td>0.538</td>\n",
       "      <td>6.575</td>\n",
       "      <td>65.2</td>\n",
       "      <td>4.0900</td>\n",
       "      <td>1</td>\n",
       "      <td>296</td>\n",
       "      <td>15.3</td>\n",
       "      <td>4.98</td>\n",
       "      <td>24.0</td>\n",
       "      <td>0</td>\n",
       "    </tr>\n",
       "    <tr>\n",
       "      <th>1</th>\n",
       "      <td>0.02731</td>\n",
       "      <td>0.0</td>\n",
       "      <td>7.07</td>\n",
       "      <td>0</td>\n",
       "      <td>0.469</td>\n",
       "      <td>6.421</td>\n",
       "      <td>78.9</td>\n",
       "      <td>4.9671</td>\n",
       "      <td>2</td>\n",
       "      <td>242</td>\n",
       "      <td>17.8</td>\n",
       "      <td>9.14</td>\n",
       "      <td>21.6</td>\n",
       "      <td>0</td>\n",
       "    </tr>\n",
       "    <tr>\n",
       "      <th>2</th>\n",
       "      <td>0.02729</td>\n",
       "      <td>0.0</td>\n",
       "      <td>7.07</td>\n",
       "      <td>0</td>\n",
       "      <td>0.469</td>\n",
       "      <td>7.185</td>\n",
       "      <td>61.1</td>\n",
       "      <td>4.9671</td>\n",
       "      <td>2</td>\n",
       "      <td>242</td>\n",
       "      <td>17.8</td>\n",
       "      <td>4.03</td>\n",
       "      <td>34.7</td>\n",
       "      <td>1</td>\n",
       "    </tr>\n",
       "    <tr>\n",
       "      <th>3</th>\n",
       "      <td>0.03237</td>\n",
       "      <td>0.0</td>\n",
       "      <td>2.18</td>\n",
       "      <td>0</td>\n",
       "      <td>0.458</td>\n",
       "      <td>6.998</td>\n",
       "      <td>45.8</td>\n",
       "      <td>6.0622</td>\n",
       "      <td>3</td>\n",
       "      <td>222</td>\n",
       "      <td>18.7</td>\n",
       "      <td>2.94</td>\n",
       "      <td>33.4</td>\n",
       "      <td>1</td>\n",
       "    </tr>\n",
       "    <tr>\n",
       "      <th>4</th>\n",
       "      <td>0.06905</td>\n",
       "      <td>0.0</td>\n",
       "      <td>2.18</td>\n",
       "      <td>0</td>\n",
       "      <td>0.458</td>\n",
       "      <td>7.147</td>\n",
       "      <td>54.2</td>\n",
       "      <td>6.0622</td>\n",
       "      <td>3</td>\n",
       "      <td>222</td>\n",
       "      <td>18.7</td>\n",
       "      <td>5.33</td>\n",
       "      <td>36.2</td>\n",
       "      <td>1</td>\n",
       "    </tr>\n",
       "  </tbody>\n",
       "</table>\n",
       "</div>"
      ],
      "text/plain": [
       "      CRIM    ZN  INDUS  CHAS    NOX     RM   AGE     DIS  RAD  TAX  PTRATIO  \\\n",
       "0  0.00632  18.0   2.31     0  0.538  6.575  65.2  4.0900    1  296     15.3   \n",
       "1  0.02731   0.0   7.07     0  0.469  6.421  78.9  4.9671    2  242     17.8   \n",
       "2  0.02729   0.0   7.07     0  0.469  7.185  61.1  4.9671    2  242     17.8   \n",
       "3  0.03237   0.0   2.18     0  0.458  6.998  45.8  6.0622    3  222     18.7   \n",
       "4  0.06905   0.0   2.18     0  0.458  7.147  54.2  6.0622    3  222     18.7   \n",
       "\n",
       "   LSTAT  MEDV  CAT.MEDV  \n",
       "0   4.98  24.0         0  \n",
       "1   9.14  21.6         0  \n",
       "2   4.03  34.7         1  \n",
       "3   2.94  33.4         1  \n",
       "4   5.33  36.2         1  "
      ]
     },
     "execution_count": 2,
     "metadata": {},
     "output_type": "execute_result"
    }
   ],
   "source": [
    "bostonhousing = pd.read_csv('BostonHousing.csv',sep=',',header=0)\n",
    "bostonhousing.head()"
   ]
  },
  {
   "cell_type": "markdown",
   "metadata": {},
   "source": [
    "### Question 6.1 (a)"
   ]
  },
  {
   "cell_type": "markdown",
   "metadata": {},
   "source": []
  },
  {
   "cell_type": "markdown",
   "metadata": {},
   "source": [
    "### Question 6.1 (b)"
   ]
  },
  {
   "cell_type": "code",
   "execution_count": 3,
   "metadata": {
    "collapsed": false
   },
   "outputs": [
    {
     "name": "stdout",
     "output_type": "stream",
     "text": [
      "Intercept:  -28.8106825064\n",
      "CRIM coefficient:  -0.260724411231\n",
      "CHAS coefficient:  3.76303705211\n",
      "RM coefficient:  8.27817981154\n",
      "\n",
      "Equation: \n",
      "-28.8106825064  +  -0.260724411231 CRIM +  3.76303705211 CHAS +  8.27817981154 RM = MEDV\n"
     ]
    }
   ],
   "source": [
    "model = sl.LinearRegression()\n",
    "model.fit(bostonhousing[['CRIM','CHAS','RM']],bostonhousing['MEDV'])\n",
    "print \"Intercept: \",model.intercept_\n",
    "print \"CRIM coefficient: \",model.coef_[0]\n",
    "print \"CHAS coefficient: \",model.coef_[1]\n",
    "print \"RM coefficient: \",model.coef_[2]\n",
    "print \"\\nEquation: \\n\",model.intercept_, \" + \",model.coef_[0],\"CRIM + \",model.coef_[1],\"CHAS + \",model.coef_[2],\"RM = MEDV\""
   ]
  },
  {
   "cell_type": "markdown",
   "metadata": {},
   "source": [
    "### Question 6.1 (c)"
   ]
  },
  {
   "cell_type": "code",
   "execution_count": 4,
   "metadata": {
    "collapsed": false
   },
   "outputs": [
    {
     "name": "stdout",
     "output_type": "stream",
     "text": [
      "The predicted price is:  20.8323239217\n"
     ]
    }
   ],
   "source": [
    "query = pd.DataFrame([['0.1','0','6']],columns=['CRIM','CHAS','RM'])\n",
    "print \"The predicted price is: \",model.predict(query)[0]"
   ]
  },
  {
   "cell_type": "code",
   "execution_count": 5,
   "metadata": {
    "collapsed": false
   },
   "outputs": [
    {
     "name": "stdout",
     "output_type": "stream",
     "text": [
      "The error with respect to the closest value is: 2.06767607827\n"
     ]
    }
   ],
   "source": [
    "tmp = bostonhousing[['CRIM','CHAS','RM']]\n",
    "query_vals = query.values[0].astype('Float64')\n",
    "index_closest = np.abs(tmp.apply(lambda x: x-query_vals,axis=1).sum(axis=1)).ix[np.abs(tmp.apply(lambda x: x-query_vals,axis=1).sum(axis=1))==np.abs(tmp.apply(lambda x: x-query_vals,axis=1).sum(axis=1)).min()].index[0]\n",
    "print \"The error with respect to the closest value is:\", np.abs(bostonhousing.MEDV.ix[index_closest]-model.predict(query)[0])"
   ]
  },
  {
   "cell_type": "markdown",
   "metadata": {},
   "source": [
    "### Question 6.1 (d) i."
   ]
  },
  {
   "cell_type": "code",
   "execution_count": 6,
   "metadata": {
    "collapsed": false
   },
   "outputs": [
    {
     "name": "stdout",
     "output_type": "stream",
     "text": [
      "          INDUS       NOX       TAX\n",
      "INDUS  1.000000  0.763651  0.720760\n",
      "NOX    0.763651  1.000000  0.668023\n",
      "TAX    0.720760  0.668023  1.000000\n"
     ]
    }
   ],
   "source": [
    "corr_mat = bostonhousing[['INDUS','NOX','TAX']].corr()\n",
    "print corr_mat"
   ]
  },
  {
   "cell_type": "markdown",
   "metadata": {},
   "source": [
    "### Question 6.1 (d) ii."
   ]
  },
  {
   "cell_type": "code",
   "execution_count": 7,
   "metadata": {
    "collapsed": false
   },
   "outputs": [
    {
     "name": "stdout",
     "output_type": "stream",
     "text": [
      "========================================\n",
      "Looking at:  CRIM\n",
      "RAD  :  0.625505145263\n",
      "========================================\n",
      "Looking at:  ZN\n",
      "DIS  :  0.664408222762\n",
      "========================================\n",
      "Looking at:  INDUS\n",
      "NOX  :  0.763651446921\n",
      "AGE  :  0.644778511355\n",
      "DIS  :  -0.708026988743\n",
      "TAX  :  0.720760179952\n",
      "LSTAT  :  0.603799716477\n",
      "========================================\n",
      "Looking at:  NOX\n",
      "INDUS  :  0.763651446921\n",
      "AGE  :  0.731470103786\n",
      "DIS  :  -0.769230113226\n",
      "RAD  :  0.611440563486\n",
      "TAX  :  0.668023200403\n",
      "========================================\n",
      "Looking at:  RM\n",
      "LSTAT  :  -0.613808271866\n",
      "MEDV  :  0.695359947072\n",
      "CAT.MEDV  :  0.641265408301\n",
      "========================================\n",
      "Looking at:  AGE\n",
      "INDUS  :  0.644778511355\n",
      "NOX  :  0.731470103786\n",
      "DIS  :  -0.747880540869\n",
      "LSTAT  :  0.602338528726\n",
      "========================================\n",
      "Looking at:  DIS\n",
      "ZN  :  0.664408222762\n",
      "INDUS  :  -0.708026988743\n",
      "NOX  :  -0.769230113226\n",
      "AGE  :  -0.747880540869\n",
      "========================================\n",
      "Looking at:  RAD\n",
      "CRIM  :  0.625505145263\n",
      "NOX  :  0.611440563486\n",
      "TAX  :  0.910228188533\n",
      "========================================\n",
      "Looking at:  TAX\n",
      "INDUS  :  0.720760179952\n",
      "NOX  :  0.668023200403\n",
      "RAD  :  0.910228188533\n",
      "========================================\n",
      "Looking at:  LSTAT\n",
      "INDUS  :  0.603799716477\n",
      "RM  :  -0.613808271866\n",
      "AGE  :  0.602338528726\n",
      "MEDV  :  -0.737662726174\n",
      "========================================\n",
      "Looking at:  MEDV\n",
      "RM  :  0.695359947072\n",
      "LSTAT  :  -0.737662726174\n",
      "CAT.MEDV  :  0.789788766697\n",
      "========================================\n",
      "Looking at:  CAT.MEDV\n",
      "RM  :  0.641265408301\n",
      "MEDV  :  0.789788766697\n",
      "========================================\n"
     ]
    }
   ],
   "source": [
    "corr_mat = bostonhousing.corr()\n",
    "corr_mat.values[[np.arange(len(corr_mat))]*2]=0\n",
    "corr_mat = corr_mat[np.abs(corr_mat)>0.6].fillna(0).reset_index()\n",
    "\n",
    "for col in corr_mat.columns.values[1:]:\n",
    "    if len(corr_mat[corr_mat[col]!=0][col].index)>0:\n",
    "        print \"=\"*40\n",
    "        print \"Looking at: \",col\n",
    "        for i in corr_mat[corr_mat[col]!=0][col].index:\n",
    "            print corr_mat['index'][i],\" : \",corr_mat[corr_mat[col]!=0][col][i]\n",
    "print \"=\"*40"
   ]
  },
  {
   "cell_type": "markdown",
   "metadata": {},
   "source": [
    "### Question 6.1 (d) iii."
   ]
  },
  {
   "cell_type": "markdown",
   "metadata": {},
   "source": [
    "## NOTE STILL NEED TO REMOVE SOME VARIABLES OR ADJUST FOR MULTICOLLINEARITY!\n",
    "\n",
    "## ALSO LOOK INTO SKLEARN.FEATURE_SELECTION.RFE it's like backward selection"
   ]
  },
  {
   "cell_type": "code",
   "execution_count": 26,
   "metadata": {
    "collapsed": false
   },
   "outputs": [
    {
     "data": {
      "text/plain": [
       "[mean: -33.93379, std: 1.52852, params: {'feature_selection__k': 1},\n",
       " mean: -20.66070, std: 2.23136, params: {'feature_selection__k': 2},\n",
       " mean: -17.63993, std: 1.92269, params: {'feature_selection__k': 3},\n",
       " mean: -16.85695, std: 1.73143, params: {'feature_selection__k': 4},\n",
       " mean: -16.86280, std: 1.77253, params: {'feature_selection__k': 5},\n",
       " mean: -16.79023, std: 1.92423, params: {'feature_selection__k': 6},\n",
       " mean: -16.62760, std: 1.90103, params: {'feature_selection__k': 7},\n",
       " mean: -16.43083, std: 2.05962, params: {'feature_selection__k': 8},\n",
       " mean: -16.29312, std: 2.08368, params: {'feature_selection__k': 9},\n",
       " mean: -15.58514, std: 2.46930, params: {'feature_selection__k': 10},\n",
       " mean: -14.77329, std: 2.39573, params: {'feature_selection__k': 11},\n",
       " mean: -14.76302, std: 2.45722, params: {'feature_selection__k': 12}]"
      ]
     },
     "execution_count": 26,
     "metadata": {},
     "output_type": "execute_result"
    }
   ],
   "source": [
    "columns = list(set(bostonhousing.columns.values)-set(['MEDV']))\n",
    "X,Xt,y,yt = cv.train_test_split(bostonhousing[columns],bostonhousing.MEDV,test_size=0.2)\n",
    "\n",
    "model = pipe.Pipeline([('norm',pp.MinMaxScaler()),('feature_selection',fs.SelectKBest()),('lr',sl.LinearRegression())])\n",
    "parameters = {'feature_selection__k':range(1,len(bostonhousing.columns.values)-1)}\n",
    "grid_search = gs.GridSearchCV(model,parameters,cv=5,n_jobs=4,scoring='mean_squared_error')\n",
    "grid_search.fit(X,y)\n",
    "grid_search.grid_scores_"
   ]
  },
  {
   "cell_type": "markdown",
   "metadata": {},
   "source": [
    "So the problem says to choose the top three models but it does not say what it's based on. So from what I can see, it looks like there should be a 20% cross validation set and then an 80% training set. I am assuming that the best model should be determined in terms of accuracy on the training set data.\n",
    "\n",
    "Note: The reason that values are negative is because this was purposefully done so that the output can be used for maximization given some hyperparamters.\n",
    "\n"
   ]
  },
  {
   "cell_type": "markdown",
   "metadata": {},
   "source": [
    "## Question 7.3"
   ]
  },
  {
   "cell_type": "markdown",
   "metadata": {},
   "source": [
    "### Question 7.3 (a)"
   ]
  },
  {
   "cell_type": "code",
   "execution_count": 84,
   "metadata": {
    "collapsed": false
   },
   "outputs": [
    {
     "data": {
      "text/html": [
       "<div>\n",
       "<table border=\"1\" class=\"dataframe\">\n",
       "  <thead>\n",
       "    <tr style=\"text-align: right;\">\n",
       "      <th></th>\n",
       "      <th>CRIM</th>\n",
       "      <th>ZN</th>\n",
       "      <th>INDUS</th>\n",
       "      <th>CHAS</th>\n",
       "      <th>NOX</th>\n",
       "      <th>RM</th>\n",
       "      <th>AGE</th>\n",
       "      <th>DIS</th>\n",
       "      <th>RAD</th>\n",
       "      <th>TAX</th>\n",
       "      <th>PTRATIO</th>\n",
       "      <th>LSTAT</th>\n",
       "      <th>MEDV</th>\n",
       "      <th>CAT.MEDV</th>\n",
       "    </tr>\n",
       "  </thead>\n",
       "  <tbody>\n",
       "    <tr>\n",
       "      <th>0</th>\n",
       "      <td>0.00632</td>\n",
       "      <td>18.0</td>\n",
       "      <td>2.31</td>\n",
       "      <td>0</td>\n",
       "      <td>0.538</td>\n",
       "      <td>6.575</td>\n",
       "      <td>65.2</td>\n",
       "      <td>4.0900</td>\n",
       "      <td>1</td>\n",
       "      <td>296</td>\n",
       "      <td>15.3</td>\n",
       "      <td>4.98</td>\n",
       "      <td>24.0</td>\n",
       "      <td>0</td>\n",
       "    </tr>\n",
       "    <tr>\n",
       "      <th>1</th>\n",
       "      <td>0.02731</td>\n",
       "      <td>0.0</td>\n",
       "      <td>7.07</td>\n",
       "      <td>0</td>\n",
       "      <td>0.469</td>\n",
       "      <td>6.421</td>\n",
       "      <td>78.9</td>\n",
       "      <td>4.9671</td>\n",
       "      <td>2</td>\n",
       "      <td>242</td>\n",
       "      <td>17.8</td>\n",
       "      <td>9.14</td>\n",
       "      <td>21.6</td>\n",
       "      <td>0</td>\n",
       "    </tr>\n",
       "    <tr>\n",
       "      <th>2</th>\n",
       "      <td>0.02729</td>\n",
       "      <td>0.0</td>\n",
       "      <td>7.07</td>\n",
       "      <td>0</td>\n",
       "      <td>0.469</td>\n",
       "      <td>7.185</td>\n",
       "      <td>61.1</td>\n",
       "      <td>4.9671</td>\n",
       "      <td>2</td>\n",
       "      <td>242</td>\n",
       "      <td>17.8</td>\n",
       "      <td>4.03</td>\n",
       "      <td>34.7</td>\n",
       "      <td>1</td>\n",
       "    </tr>\n",
       "    <tr>\n",
       "      <th>3</th>\n",
       "      <td>0.03237</td>\n",
       "      <td>0.0</td>\n",
       "      <td>2.18</td>\n",
       "      <td>0</td>\n",
       "      <td>0.458</td>\n",
       "      <td>6.998</td>\n",
       "      <td>45.8</td>\n",
       "      <td>6.0622</td>\n",
       "      <td>3</td>\n",
       "      <td>222</td>\n",
       "      <td>18.7</td>\n",
       "      <td>2.94</td>\n",
       "      <td>33.4</td>\n",
       "      <td>1</td>\n",
       "    </tr>\n",
       "    <tr>\n",
       "      <th>4</th>\n",
       "      <td>0.06905</td>\n",
       "      <td>0.0</td>\n",
       "      <td>2.18</td>\n",
       "      <td>0</td>\n",
       "      <td>0.458</td>\n",
       "      <td>7.147</td>\n",
       "      <td>54.2</td>\n",
       "      <td>6.0622</td>\n",
       "      <td>3</td>\n",
       "      <td>222</td>\n",
       "      <td>18.7</td>\n",
       "      <td>5.33</td>\n",
       "      <td>36.2</td>\n",
       "      <td>1</td>\n",
       "    </tr>\n",
       "  </tbody>\n",
       "</table>\n",
       "</div>"
      ],
      "text/plain": [
       "      CRIM    ZN  INDUS  CHAS    NOX     RM   AGE     DIS  RAD  TAX  PTRATIO  \\\n",
       "0  0.00632  18.0   2.31     0  0.538  6.575  65.2  4.0900    1  296     15.3   \n",
       "1  0.02731   0.0   7.07     0  0.469  6.421  78.9  4.9671    2  242     17.8   \n",
       "2  0.02729   0.0   7.07     0  0.469  7.185  61.1  4.9671    2  242     17.8   \n",
       "3  0.03237   0.0   2.18     0  0.458  6.998  45.8  6.0622    3  222     18.7   \n",
       "4  0.06905   0.0   2.18     0  0.458  7.147  54.2  6.0622    3  222     18.7   \n",
       "\n",
       "   LSTAT  MEDV  CAT.MEDV  \n",
       "0   4.98  24.0         0  \n",
       "1   9.14  21.6         0  \n",
       "2   4.03  34.7         1  \n",
       "3   2.94  33.4         1  \n",
       "4   5.33  36.2         1  "
      ]
     },
     "execution_count": 84,
     "metadata": {},
     "output_type": "execute_result"
    }
   ],
   "source": [
    "bostonhousing = pd.read_csv('BostonHousing.csv',sep=',',header=0)\n",
    "bostonhousing.head()"
   ]
  },
  {
   "cell_type": "code",
   "execution_count": 85,
   "metadata": {
    "collapsed": false
   },
   "outputs": [
    {
     "name": "stdout",
     "output_type": "stream",
     "text": [
      "       CRIM        ZN     INDUS      CHAS       NOX        RM       AGE  \\\n",
      "0 -0.419782  0.284830 -1.287909 -0.272599 -0.144217  0.413672 -0.120013   \n",
      "1 -0.417339 -0.487722 -0.593381 -0.272599 -0.740262  0.194274  0.367166   \n",
      "2 -0.417342 -0.487722 -0.593381 -0.272599 -0.740262  1.282714 -0.265812   \n",
      "3 -0.416750 -0.487722 -1.306878 -0.272599 -0.835284  1.016303 -0.809889   \n",
      "4 -0.412482 -0.487722 -1.306878 -0.272599 -0.835284  1.228577 -0.511180   \n",
      "\n",
      "        DIS       RAD       TAX   PTRATIO     LSTAT  MEDV  CAT.MEDV  \n",
      "0  0.140214 -0.982843 -0.666608 -1.459000 -1.075562  24.0         0  \n",
      "1  0.557160 -0.867883 -0.987329 -0.303094 -0.492439  21.6         0  \n",
      "2  0.557160 -0.867883 -0.987329 -0.303094 -1.208727  34.7         1  \n",
      "3  1.077737 -0.752922 -1.106115  0.113032 -1.361517  33.4         1  \n",
      "4  1.077737 -0.752922 -1.106115  0.113032 -1.026501  36.2         1  \n"
     ]
    }
   ],
   "source": [
    "scaler = sklearn.preprocessing.StandardScaler()\n",
    "columns = list(set(bostonhousing.columns.values)-set(['MEDV','CAT.MEDV']))\n",
    "for col in columns:\n",
    "    bostonhousing[col] = scaler.fit_transform(bostonhousing[col])\n",
    "\n",
    "print bostonhousing.head()\n",
    "\n",
    "X,Xt,y,yt = cv.train_test_split(bostonhousing[columns],bostonhousing.MEDV,test_size=0.4)"
   ]
  },
  {
   "cell_type": "code",
   "execution_count": 86,
   "metadata": {
    "collapsed": false
   },
   "outputs": [
    {
     "name": "stdout",
     "output_type": "stream",
     "text": [
      "For k =  1 , R^2 value is: 0.711006576486\n",
      "For k =  2 , R^2 value is: 0.736212866513\n",
      "For k =  3 , R^2 value is: 0.734351278859\n",
      "For k =  4 , R^2 value is: 0.714225316127\n",
      "For k =  5 , R^2 value is: 0.684881695378\n"
     ]
    }
   ],
   "source": [
    "for i in range(1,6):\n",
    "    knn_model = sklearn.neighbors.KNeighborsRegressor(n_neighbors=i)\n",
    "    knn_model.fit(X,y)\n",
    "    print \"For k = \",i,\", R^2 value is:\",knn_model.score(Xt,yt)"
   ]
  },
  {
   "cell_type": "markdown",
   "metadata": {},
   "source": [
    "Using 12 variables, it looks like k = 2 has the best performance with respect to R^2 value. This means that the prediction is based on the bucket/leaf that is indicated from the closest 3 observations."
   ]
  },
  {
   "cell_type": "code",
   "execution_count": 87,
   "metadata": {
    "collapsed": false
   },
   "outputs": [
    {
     "name": "stdout",
     "output_type": "stream",
     "text": [
      "For k = 2 , predicted value is: [ 10.85]\n"
     ]
    }
   ],
   "source": [
    "query = pd.DataFrame([[0.2,0,7,0,0.538,6,62,4.7,4,307,21,10]],columns=list(bostonhousing.columns.values[:12]))\n",
    "knn_model = sklearn.neighbors.KNeighborsRegressor(n_neighbors=2)\n",
    "knn_model.fit(X,y)\n",
    "print \"For k =\",2,\", predicted value is:\",knn_model.predict(query)"
   ]
  },
  {
   "cell_type": "code",
   "execution_count": 89,
   "metadata": {
    "collapsed": false
   },
   "outputs": [
    {
     "name": "stdout",
     "output_type": "stream",
     "text": [
      "       CRIM        ZN     INDUS  CHAS       NOX        RM       AGE       DIS  \\\n",
      "0 -0.419782  0.284830 -1.287909     0 -0.144217  0.413672 -0.120013  0.140214   \n",
      "1 -0.417339 -0.487722 -0.593381     0 -0.740262  0.194274  0.367166  0.557160   \n",
      "2 -0.417342 -0.487722 -0.593381     0 -0.740262  1.282714 -0.265812  0.557160   \n",
      "3 -0.416750 -0.487722 -1.306878     0 -0.835284  1.016303 -0.809889  1.077737   \n",
      "4 -0.412482 -0.487722 -1.306878     0 -0.835284  1.228577 -0.511180  1.077737   \n",
      "\n",
      "        RAD       TAX   PTRATIO     LSTAT  MEDV  CAT.MEDV  \n",
      "0 -0.982843 -0.666608 -1.459000 -1.075562  24.0         0  \n",
      "1 -0.867883 -0.987329 -0.303094 -0.492439  21.6         0  \n",
      "2 -0.867883 -0.987329 -0.303094 -1.208727  34.7         1  \n",
      "3 -0.752922 -1.106115  0.113032 -1.361517  33.4         1  \n",
      "4 -0.752922 -1.106115  0.113032 -1.026501  36.2         1   \n",
      "\n",
      "For k =  1 , R^2 value is: 0.65203090014\n",
      "For k =  2 , R^2 value is: 0.806518726096\n",
      "For k =  3 , R^2 value is: 0.830232939526\n",
      "For k =  4 , R^2 value is: 0.834961834782\n",
      "For k =  5 , R^2 value is: 0.837176861604\n",
      "\n",
      "For k = 2 , predicted value is: [ 14.64]\n"
     ]
    }
   ],
   "source": [
    "bostonhousing = pd.read_csv('BostonHousing.csv',sep=',',header=0)\n",
    "scaler = sklearn.preprocessing.StandardScaler()\n",
    "continuous_columns = list(set(bostonhousing.columns.values)-set(['CHAS','MEDV','CAT.MEDV',]))\n",
    "for col in continuous_columns:\n",
    "    bostonhousing[col] = scaler.fit_transform(bostonhousing[col])\n",
    "\n",
    "print bostonhousing.head(),\"\\n\"\n",
    "\n",
    "X,Xt,y,yt = cv.train_test_split(bostonhousing[columns],bostonhousing.MEDV,test_size=0.4)\n",
    "\n",
    "for i in range(1,6):\n",
    "    knn_model = sklearn.neighbors.KNeighborsRegressor(n_neighbors=i)\n",
    "    knn_model.fit(X,y)\n",
    "    print \"For k = \",i,\", R^2 value is:\",knn_model.score(Xt,yt)\n",
    "    \n",
    "print \"\\nFor k =\",2,\", predicted value is:\",knn_model.predict(query)"
   ]
  },
  {
   "cell_type": "markdown",
   "metadata": {},
   "source": [
    "# Are there any non-continuous/discrete data that is not the Charles River variable?"
   ]
  },
  {
   "cell_type": "markdown",
   "metadata": {},
   "source": [
    "## Question 8.2"
   ]
  },
  {
   "cell_type": "markdown",
   "metadata": {},
   "source": [
    "### Question 8.2 (a)"
   ]
  },
  {
   "cell_type": "code",
   "execution_count": null,
   "metadata": {
    "collapsed": true
   },
   "outputs": [],
   "source": []
  },
  {
   "cell_type": "markdown",
   "metadata": {},
   "source": [
    "### Question 8.2 (b) i."
   ]
  },
  {
   "cell_type": "code",
   "execution_count": null,
   "metadata": {
    "collapsed": true
   },
   "outputs": [],
   "source": []
  },
  {
   "cell_type": "markdown",
   "metadata": {},
   "source": [
    "### Question 8.2 (b) ii."
   ]
  },
  {
   "cell_type": "code",
   "execution_count": null,
   "metadata": {
    "collapsed": true
   },
   "outputs": [],
   "source": []
  },
  {
   "cell_type": "markdown",
   "metadata": {},
   "source": [
    "### Question 8.2 (b) iii."
   ]
  },
  {
   "cell_type": "code",
   "execution_count": null,
   "metadata": {
    "collapsed": true
   },
   "outputs": [],
   "source": []
  },
  {
   "cell_type": "markdown",
   "metadata": {},
   "source": [
    "### Question 8.2 (b) iv."
   ]
  },
  {
   "cell_type": "code",
   "execution_count": null,
   "metadata": {
    "collapsed": true
   },
   "outputs": [],
   "source": []
  },
  {
   "cell_type": "markdown",
   "metadata": {},
   "source": [
    "### Question 8.2 (b) v."
   ]
  },
  {
   "cell_type": "code",
   "execution_count": null,
   "metadata": {
    "collapsed": true
   },
   "outputs": [],
   "source": []
  },
  {
   "cell_type": "markdown",
   "metadata": {},
   "source": [
    "### Question 8.2 (c) i."
   ]
  },
  {
   "cell_type": "code",
   "execution_count": null,
   "metadata": {
    "collapsed": true
   },
   "outputs": [],
   "source": []
  },
  {
   "cell_type": "markdown",
   "metadata": {},
   "source": [
    "### Question 8.2 (c) ii."
   ]
  },
  {
   "cell_type": "code",
   "execution_count": null,
   "metadata": {
    "collapsed": true
   },
   "outputs": [],
   "source": []
  },
  {
   "cell_type": "markdown",
   "metadata": {},
   "source": [
    "### Question 8.2 (c) iii."
   ]
  },
  {
   "cell_type": "code",
   "execution_count": null,
   "metadata": {
    "collapsed": true
   },
   "outputs": [],
   "source": []
  },
  {
   "cell_type": "markdown",
   "metadata": {},
   "source": [
    "### Question 8.2 (c) iv."
   ]
  },
  {
   "cell_type": "code",
   "execution_count": null,
   "metadata": {
    "collapsed": true
   },
   "outputs": [],
   "source": []
  },
  {
   "cell_type": "markdown",
   "metadata": {},
   "source": [
    "### Question 8.2 (c) v."
   ]
  },
  {
   "cell_type": "code",
   "execution_count": null,
   "metadata": {
    "collapsed": true
   },
   "outputs": [],
   "source": []
  },
  {
   "cell_type": "markdown",
   "metadata": {},
   "source": [
    "### Question 8.2 (c) vi."
   ]
  },
  {
   "cell_type": "code",
   "execution_count": null,
   "metadata": {
    "collapsed": true
   },
   "outputs": [],
   "source": []
  },
  {
   "cell_type": "markdown",
   "metadata": {},
   "source": [
    "## Question 9.3"
   ]
  },
  {
   "cell_type": "markdown",
   "metadata": {},
   "source": [
    "### Question 9.3 (a) i."
   ]
  },
  {
   "cell_type": "code",
   "execution_count": null,
   "metadata": {
    "collapsed": true
   },
   "outputs": [],
   "source": []
  },
  {
   "cell_type": "markdown",
   "metadata": {},
   "source": [
    "### Question 9.3 (a) ii."
   ]
  },
  {
   "cell_type": "code",
   "execution_count": null,
   "metadata": {
    "collapsed": true
   },
   "outputs": [],
   "source": []
  },
  {
   "cell_type": "markdown",
   "metadata": {},
   "source": [
    "### Question 9.3 (a) iii."
   ]
  },
  {
   "cell_type": "code",
   "execution_count": null,
   "metadata": {
    "collapsed": true
   },
   "outputs": [],
   "source": []
  },
  {
   "cell_type": "markdown",
   "metadata": {},
   "source": [
    "### Question 9.3 (a) iv."
   ]
  },
  {
   "cell_type": "code",
   "execution_count": null,
   "metadata": {
    "collapsed": true
   },
   "outputs": [],
   "source": []
  },
  {
   "cell_type": "markdown",
   "metadata": {},
   "source": [
    "### Question 9.3 (a) v."
   ]
  },
  {
   "cell_type": "code",
   "execution_count": null,
   "metadata": {
    "collapsed": true
   },
   "outputs": [],
   "source": []
  },
  {
   "cell_type": "markdown",
   "metadata": {},
   "source": [
    "### Question 9.3 (a) vi."
   ]
  },
  {
   "cell_type": "code",
   "execution_count": null,
   "metadata": {
    "collapsed": true
   },
   "outputs": [],
   "source": []
  },
  {
   "cell_type": "markdown",
   "metadata": {},
   "source": [
    "### Question 9.3 (a) vii."
   ]
  },
  {
   "cell_type": "code",
   "execution_count": null,
   "metadata": {
    "collapsed": true
   },
   "outputs": [],
   "source": []
  }
 ],
 "metadata": {
  "kernelspec": {
   "display_name": "Python 2",
   "language": "python",
   "name": "python2"
  },
  "language_info": {
   "codemirror_mode": {
    "name": "ipython",
    "version": 2
   },
   "file_extension": ".py",
   "mimetype": "text/x-python",
   "name": "python",
   "nbconvert_exporter": "python",
   "pygments_lexer": "ipython2",
   "version": "2.7.11"
  }
 },
 "nbformat": 4,
 "nbformat_minor": 0
}
